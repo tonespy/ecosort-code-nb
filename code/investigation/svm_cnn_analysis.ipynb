{
 "cells": [
  {
   "cell_type": "code",
   "execution_count": 1,
   "metadata": {},
   "outputs": [],
   "source": [
    "# Install basic modules and make sure they are available with the latest pip version.\n",
    "# Always updating PIP could be either good or bad, you just have to choose one base on the situation around.\n",
    "\n",
    "# I use --quiet and --no-warn-script-location to hide the output of my directory paths\n",
    "import sys\n",
    "import os\n",
    "\n",
    "!{sys.executable} -m pip install --upgrade pip matplotlib numpy tensorflow-macos tensorflow-metal scikit-learn --quiet --no-warn-script-location"
   ]
  },
  {
   "cell_type": "code",
   "execution_count": 2,
   "metadata": {},
   "outputs": [],
   "source": [
    "from tensorflow.keras import layers\n",
    "from tensorflow.keras import Model\n",
    "from tensorflow.keras.optimizers import RMSprop\n",
    "from tensorflow.keras.models import Model\n",
    "from tensorflow.keras.utils import to_categorical\n",
    "from sklearn.model_selection import train_test_split\n",
    "from sklearn.svm import SVC\n",
    "from sklearn.metrics import accuracy_score, classification_report\n",
    "import numpy as np\n",
    "import os\n",
    "from PIL import Image\n",
    "import glob"
   ]
  },
  {
   "cell_type": "code",
   "execution_count": 3,
   "metadata": {},
   "outputs": [
    {
     "name": "stdout",
     "output_type": "stream",
     "text": [
      "Classes: ['battery', 'biological', 'brown-glass', 'cardboard', 'clothes', 'green-glass', 'metal', 'paper', 'plastic', 'shoes', 'trash', 'white-glass']\n"
     ]
    }
   ],
   "source": [
    "# Load all images and labels\n",
    "dataset_path = os.path.join(os.getcwd().replace(\"investigation\", \"kaggledataset\"), 'garbage_classification')\n",
    "\n",
    "image_data = []\n",
    "labels = []\n",
    "class_names = sorted(os.listdir(dataset_path))\n",
    "print(f\"Classes: {class_names}\")\n",
    "\n",
    "for class_idx, class_name in enumerate(class_names):\n",
    "    class_folder = os.path.join(dataset_path, class_name)\n",
    "    if os.path.isdir(class_folder):\n",
    "        for img_file in glob.glob(os.path.join(class_folder, \"*.jpg\")):\n",
    "            try:\n",
    "                # Open the image, resize, and normalize\n",
    "                img = Image.open(img_file).convert(\"RGB\").resize((256, 256))\n",
    "                image_data.append(np.array(img) / 255.0)  # Normalize to 0-1 range\n",
    "                labels.append(class_idx)\n",
    "            except Exception as e:\n",
    "                print(f\"Error loading image {img_file}: {e}\")\n",
    "\n",
    "# Convert to NumPy arrays\n",
    "image_data = np.array(image_data, dtype=\"float32\")\n",
    "labels = np.array(labels)\n",
    "\n",
    "# One-hot encode the labels for CNN training\n",
    "labels_one_hot = to_categorical(labels, num_classes=len(class_names))\n",
    "\n",
    "# Split data into train/test sets\n",
    "train_data, test_data, train_labels, test_labels = train_test_split(\n",
    "    image_data, labels_one_hot, test_size=0.2, random_state=42, stratify=labels\n",
    ")"
   ]
  },
  {
   "cell_type": "code",
   "execution_count": 4,
   "metadata": {},
   "outputs": [
    {
     "name": "stderr",
     "output_type": "stream",
     "text": [
      "2024-12-12 15:39:42.586247: I metal_plugin/src/device/metal_device.cc:1154] Metal device set to: Apple M3 Max\n",
      "2024-12-12 15:39:42.586272: I metal_plugin/src/device/metal_device.cc:296] systemMemory: 48.00 GB\n",
      "2024-12-12 15:39:42.586281: I metal_plugin/src/device/metal_device.cc:313] maxCacheSize: 18.00 GB\n",
      "2024-12-12 15:39:42.586294: I tensorflow/core/common_runtime/pluggable_device/pluggable_device_factory.cc:305] Could not identify NUMA node of platform GPU ID 0, defaulting to 0. Your kernel may not have been built with NUMA support.\n",
      "2024-12-12 15:39:42.586305: I tensorflow/core/common_runtime/pluggable_device/pluggable_device_factory.cc:271] Created TensorFlow device (/job:localhost/replica:0/task:0/device:GPU:0 with 0 MB memory) -> physical PluggableDevice (device: 0, name: METAL, pci bus id: <undefined>)\n"
     ]
    },
    {
     "name": "stdout",
     "output_type": "stream",
     "text": [
      "Epoch 1/30\n"
     ]
    },
    {
     "name": "stderr",
     "output_type": "stream",
     "text": [
      "2024-12-12 15:39:50.303138: I tensorflow/core/grappler/optimizers/custom_graph_optimizer_registry.cc:117] Plugin optimizer for device_type GPU is enabled.\n"
     ]
    },
    {
     "name": "stdout",
     "output_type": "stream",
     "text": [
      "\u001b[1m388/388\u001b[0m \u001b[32m━━━━━━━━━━━━━━━━━━━━\u001b[0m\u001b[37m\u001b[0m \u001b[1m44s\u001b[0m 108ms/step - acc: 0.6094 - loss: 1.2758 - val_acc: 0.5450 - val_loss: 1.4117\n",
      "Epoch 2/30\n",
      "\u001b[1m388/388\u001b[0m \u001b[32m━━━━━━━━━━━━━━━━━━━━\u001b[0m\u001b[37m\u001b[0m \u001b[1m40s\u001b[0m 102ms/step - acc: 0.8611 - loss: 0.4477 - val_acc: 0.7390 - val_loss: 0.8195\n",
      "Epoch 3/30\n",
      "\u001b[1m388/388\u001b[0m \u001b[32m━━━━━━━━━━━━━━━━━━━━\u001b[0m\u001b[37m\u001b[0m \u001b[1m40s\u001b[0m 104ms/step - acc: 0.9510 - loss: 0.1778 - val_acc: 0.7396 - val_loss: 0.8717\n",
      "Epoch 4/30\n",
      "\u001b[1m388/388\u001b[0m \u001b[32m━━━━━━━━━━━━━━━━━━━━\u001b[0m\u001b[37m\u001b[0m \u001b[1m40s\u001b[0m 102ms/step - acc: 0.9841 - loss: 0.0731 - val_acc: 0.7325 - val_loss: 0.9369\n",
      "Epoch 5/30\n",
      "\u001b[1m388/388\u001b[0m \u001b[32m━━━━━━━━━━━━━━━━━━━━\u001b[0m\u001b[37m\u001b[0m \u001b[1m39s\u001b[0m 102ms/step - acc: 0.9913 - loss: 0.0417 - val_acc: 0.7535 - val_loss: 0.9677\n",
      "Epoch 6/30\n",
      "\u001b[1m388/388\u001b[0m \u001b[32m━━━━━━━━━━━━━━━━━━━━\u001b[0m\u001b[37m\u001b[0m \u001b[1m40s\u001b[0m 102ms/step - acc: 0.9966 - loss: 0.0240 - val_acc: 0.7042 - val_loss: 1.2862\n",
      "Epoch 7/30\n",
      "\u001b[1m388/388\u001b[0m \u001b[32m━━━━━━━━━━━━━━━━━━━━\u001b[0m\u001b[37m\u001b[0m \u001b[1m40s\u001b[0m 102ms/step - acc: 0.9970 - loss: 0.0161 - val_acc: 0.7580 - val_loss: 0.9367\n",
      "Epoch 8/30\n",
      "\u001b[1m388/388\u001b[0m \u001b[32m━━━━━━━━━━━━━━━━━━━━\u001b[0m\u001b[37m\u001b[0m \u001b[1m39s\u001b[0m 101ms/step - acc: 0.9993 - loss: 0.0075 - val_acc: 0.7470 - val_loss: 1.0077\n",
      "Epoch 9/30\n",
      "\u001b[1m388/388\u001b[0m \u001b[32m━━━━━━━━━━━━━━━━━━━━\u001b[0m\u001b[37m\u001b[0m \u001b[1m40s\u001b[0m 102ms/step - acc: 0.9986 - loss: 0.0085 - val_acc: 0.7564 - val_loss: 0.9552\n",
      "Epoch 10/30\n",
      "\u001b[1m388/388\u001b[0m \u001b[32m━━━━━━━━━━━━━━━━━━━━\u001b[0m\u001b[37m\u001b[0m \u001b[1m39s\u001b[0m 100ms/step - acc: 0.9996 - loss: 0.0056 - val_acc: 0.7341 - val_loss: 1.0580\n",
      "Epoch 11/30\n",
      "\u001b[1m388/388\u001b[0m \u001b[32m━━━━━━━━━━━━━━━━━━━━\u001b[0m\u001b[37m\u001b[0m \u001b[1m39s\u001b[0m 100ms/step - acc: 0.9993 - loss: 0.0046 - val_acc: 0.7609 - val_loss: 0.9937\n",
      "Epoch 12/30\n",
      "\u001b[1m388/388\u001b[0m \u001b[32m━━━━━━━━━━━━━━━━━━━━\u001b[0m\u001b[37m\u001b[0m \u001b[1m39s\u001b[0m 101ms/step - acc: 0.9995 - loss: 0.0040 - val_acc: 0.7441 - val_loss: 1.1035\n",
      "Epoch 13/30\n",
      "\u001b[1m388/388\u001b[0m \u001b[32m━━━━━━━━━━━━━━━━━━━━\u001b[0m\u001b[37m\u001b[0m \u001b[1m40s\u001b[0m 102ms/step - acc: 0.9994 - loss: 0.0040 - val_acc: 0.7473 - val_loss: 1.1447\n",
      "Epoch 14/30\n",
      "\u001b[1m388/388\u001b[0m \u001b[32m━━━━━━━━━━━━━━━━━━━━\u001b[0m\u001b[37m\u001b[0m \u001b[1m40s\u001b[0m 102ms/step - acc: 0.9990 - loss: 0.0049 - val_acc: 0.7631 - val_loss: 0.9834\n",
      "Epoch 15/30\n",
      "\u001b[1m388/388\u001b[0m \u001b[32m━━━━━━━━━━━━━━━━━━━━\u001b[0m\u001b[37m\u001b[0m \u001b[1m40s\u001b[0m 103ms/step - acc: 0.9995 - loss: 0.0037 - val_acc: 0.7651 - val_loss: 1.0743\n",
      "Epoch 16/30\n",
      "\u001b[1m388/388\u001b[0m \u001b[32m━━━━━━━━━━━━━━━━━━━━\u001b[0m\u001b[37m\u001b[0m \u001b[1m40s\u001b[0m 102ms/step - acc: 0.9997 - loss: 0.0026 - val_acc: 0.7618 - val_loss: 1.0169\n",
      "Epoch 17/30\n",
      "\u001b[1m388/388\u001b[0m \u001b[32m━━━━━━━━━━━━━━━━━━━━\u001b[0m\u001b[37m\u001b[0m \u001b[1m39s\u001b[0m 101ms/step - acc: 0.9997 - loss: 0.0025 - val_acc: 0.7586 - val_loss: 1.1095\n",
      "Epoch 18/30\n",
      "\u001b[1m388/388\u001b[0m \u001b[32m━━━━━━━━━━━━━━━━━━━━\u001b[0m\u001b[37m\u001b[0m \u001b[1m39s\u001b[0m 101ms/step - acc: 0.9992 - loss: 0.0039 - val_acc: 0.7538 - val_loss: 1.1540\n",
      "Epoch 19/30\n",
      "\u001b[1m388/388\u001b[0m \u001b[32m━━━━━━━━━━━━━━━━━━━━\u001b[0m\u001b[37m\u001b[0m \u001b[1m40s\u001b[0m 102ms/step - acc: 0.9998 - loss: 0.0018 - val_acc: 0.7058 - val_loss: 1.3810\n",
      "Epoch 20/30\n",
      "\u001b[1m388/388\u001b[0m \u001b[32m━━━━━━━━━━━━━━━━━━━━\u001b[0m\u001b[37m\u001b[0m \u001b[1m39s\u001b[0m 101ms/step - acc: 0.9994 - loss: 0.0028 - val_acc: 0.7596 - val_loss: 1.0664\n",
      "Epoch 21/30\n",
      "\u001b[1m388/388\u001b[0m \u001b[32m━━━━━━━━━━━━━━━━━━━━\u001b[0m\u001b[37m\u001b[0m \u001b[1m39s\u001b[0m 101ms/step - acc: 0.9996 - loss: 0.0021 - val_acc: 0.7612 - val_loss: 1.0729\n",
      "Epoch 22/30\n",
      "\u001b[1m388/388\u001b[0m \u001b[32m━━━━━━━━━━━━━━━━━━━━\u001b[0m\u001b[37m\u001b[0m \u001b[1m39s\u001b[0m 101ms/step - acc: 0.9998 - loss: 0.0012 - val_acc: 0.7618 - val_loss: 1.0754\n",
      "Epoch 23/30\n",
      "\u001b[1m388/388\u001b[0m \u001b[32m━━━━━━━━━━━━━━━━━━━━\u001b[0m\u001b[37m\u001b[0m \u001b[1m39s\u001b[0m 101ms/step - acc: 0.9994 - loss: 0.0032 - val_acc: 0.7580 - val_loss: 1.0902\n",
      "Epoch 24/30\n",
      "\u001b[1m388/388\u001b[0m \u001b[32m━━━━━━━━━━━━━━━━━━━━\u001b[0m\u001b[37m\u001b[0m \u001b[1m39s\u001b[0m 102ms/step - acc: 0.9982 - loss: 0.0075 - val_acc: 0.7689 - val_loss: 1.0264\n",
      "Epoch 25/30\n",
      "\u001b[1m388/388\u001b[0m \u001b[32m━━━━━━━━━━━━━━━━━━━━\u001b[0m\u001b[37m\u001b[0m \u001b[1m40s\u001b[0m 102ms/step - acc: 0.9997 - loss: 0.0015 - val_acc: 0.7651 - val_loss: 1.1445\n",
      "Epoch 26/30\n",
      "\u001b[1m388/388\u001b[0m \u001b[32m━━━━━━━━━━━━━━━━━━━━\u001b[0m\u001b[37m\u001b[0m \u001b[1m39s\u001b[0m 101ms/step - acc: 0.9992 - loss: 0.0039 - val_acc: 0.7612 - val_loss: 1.0925\n",
      "Epoch 27/30\n",
      "\u001b[1m388/388\u001b[0m \u001b[32m━━━━━━━━━━━━━━━━━━━━\u001b[0m\u001b[37m\u001b[0m \u001b[1m39s\u001b[0m 100ms/step - acc: 0.9993 - loss: 0.0031 - val_acc: 0.7583 - val_loss: 1.1288\n",
      "Epoch 28/30\n",
      "\u001b[1m388/388\u001b[0m \u001b[32m━━━━━━━━━━━━━━━━━━━━\u001b[0m\u001b[37m\u001b[0m \u001b[1m39s\u001b[0m 100ms/step - acc: 0.9999 - loss: 0.0011 - val_acc: 0.7573 - val_loss: 1.2308\n",
      "Epoch 29/30\n",
      "\u001b[1m388/388\u001b[0m \u001b[32m━━━━━━━━━━━━━━━━━━━━\u001b[0m\u001b[37m\u001b[0m \u001b[1m39s\u001b[0m 101ms/step - acc: 0.9997 - loss: 0.0012 - val_acc: 0.7506 - val_loss: 1.1876\n",
      "Epoch 30/30\n",
      "\u001b[1m388/388\u001b[0m \u001b[32m━━━━━━━━━━━━━━━━━━━━\u001b[0m\u001b[37m\u001b[0m \u001b[1m39s\u001b[0m 101ms/step - acc: 0.9994 - loss: 0.0040 - val_acc: 0.7676 - val_loss: 1.1025\n"
     ]
    },
    {
     "data": {
      "text/plain": [
       "<keras.src.callbacks.history.History at 0x36a351a50>"
      ]
     },
     "execution_count": 4,
     "metadata": {},
     "output_type": "execute_result"
    }
   ],
   "source": [
    "img_input = layers.Input(shape=(256, 256, 3))\n",
    "\n",
    "# CNN architecture\n",
    "x = layers.Conv2D(32, 3, activation=None)(img_input)\n",
    "x = layers.BatchNormalization()(x)\n",
    "x = layers.ReLU()(x)\n",
    "x = layers.MaxPooling2D(2)(x)\n",
    "\n",
    "x = layers.Conv2D(64, 3, activation=None)(x)\n",
    "x = layers.BatchNormalization()(x)\n",
    "x = layers.ReLU()(x)\n",
    "x = layers.MaxPooling2D(2)(x)\n",
    "\n",
    "x = layers.Conv2D(128, 3, activation=None)(x)\n",
    "x = layers.BatchNormalization()(x)\n",
    "x = layers.ReLU()(x)\n",
    "x = layers.MaxPooling2D(2)(x)\n",
    "\n",
    "x = layers.Flatten()(x)\n",
    "x = layers.Dense(512, activation=None)(x)\n",
    "x = layers.BatchNormalization()(x)\n",
    "x = layers.ReLU()(x)\n",
    "output = layers.Dense(len(class_names), activation='softmax')(x)\n",
    "\n",
    "cnn_model = Model(img_input, output)\n",
    "\n",
    "cnn_model.compile(\n",
    "    loss='categorical_crossentropy',\n",
    "    optimizer=RMSprop(learning_rate=0.0001),\n",
    "    metrics=['acc']\n",
    ")\n",
    "\n",
    "# Train CNN\n",
    "cnn_model.fit(\n",
    "    train_data,\n",
    "    train_labels,\n",
    "    epochs=30,  # Reduced for demonstration\n",
    "    batch_size=32,\n",
    "    validation_data=(test_data, test_labels)\n",
    ")"
   ]
  },
  {
   "cell_type": "code",
   "execution_count": null,
   "metadata": {},
   "outputs": [
    {
     "name": "stdout",
     "output_type": "stream",
     "text": [
      "\u001b[1m388/388\u001b[0m \u001b[32m━━━━━━━━━━━━━━━━━━━━\u001b[0m\u001b[37m\u001b[0m \u001b[1m9s\u001b[0m 22ms/step\n",
      "\u001b[1m97/97\u001b[0m \u001b[32m━━━━━━━━━━━━━━━━━━━━\u001b[0m\u001b[37m\u001b[0m \u001b[1m2s\u001b[0m 16ms/step\n",
      "Accuracy: 0.7757009345794392\n",
      "              precision    recall  f1-score   support\n",
      "\n",
      "     battery       0.76      0.69      0.72       189\n",
      "  biological       0.74      0.73      0.73       197\n",
      " brown-glass       0.75      0.66      0.70       122\n",
      "   cardboard       0.78      0.78      0.78       178\n",
      "     clothes       0.87      0.96      0.91      1065\n",
      " green-glass       0.84      0.86      0.85       126\n",
      "       metal       0.64      0.49      0.56       154\n",
      "       paper       0.80      0.77      0.78       210\n",
      "     plastic       0.55      0.47      0.51       173\n",
      "       shoes       0.72      0.70      0.71       395\n",
      "       trash       0.69      0.73      0.71       139\n",
      " white-glass       0.59      0.59      0.59       155\n",
      "\n",
      "    accuracy                           0.78      3103\n",
      "   macro avg       0.73      0.70      0.71      3103\n",
      "weighted avg       0.77      0.78      0.77      3103\n",
      "\n"
     ]
    },
    {
     "ename": "AttributeError",
     "evalue": "'SVC' object has no attribute 'summary'",
     "output_type": "error",
     "traceback": [
      "\u001b[0;31m---------------------------------------------------------------------------\u001b[0m",
      "\u001b[0;31mAttributeError\u001b[0m                            Traceback (most recent call last)",
      "Cell \u001b[0;32mIn[7], line 16\u001b[0m\n\u001b[1;32m     13\u001b[0m \u001b[38;5;28mprint\u001b[39m(\u001b[38;5;124mf\u001b[39m\u001b[38;5;124m\"\u001b[39m\u001b[38;5;124mAccuracy: \u001b[39m\u001b[38;5;132;01m{\u001b[39;00maccuracy_score(np\u001b[38;5;241m.\u001b[39margmax(test_labels,\u001b[38;5;250m \u001b[39maxis\u001b[38;5;241m=\u001b[39m\u001b[38;5;241m1\u001b[39m),\u001b[38;5;250m \u001b[39my_pred)\u001b[38;5;132;01m}\u001b[39;00m\u001b[38;5;124m\"\u001b[39m)\n\u001b[1;32m     14\u001b[0m \u001b[38;5;28mprint\u001b[39m(classification_report(np\u001b[38;5;241m.\u001b[39margmax(test_labels, axis\u001b[38;5;241m=\u001b[39m\u001b[38;5;241m1\u001b[39m), y_pred, target_names\u001b[38;5;241m=\u001b[39mclass_names))\n\u001b[0;32m---> 16\u001b[0m \u001b[43msvm_model\u001b[49m\u001b[38;5;241;43m.\u001b[39;49m\u001b[43msummary\u001b[49m()\n",
      "\u001b[0;31mAttributeError\u001b[0m: 'SVC' object has no attribute 'summary'"
     ]
    }
   ],
   "source": [
    "# Extract features using CNN\n",
    "feature_extractor = Model(inputs=cnn_model.input, outputs=cnn_model.layers[-2].output)\n",
    "\n",
    "train_features = feature_extractor.predict(train_data)\n",
    "test_features = feature_extractor.predict(test_data)\n",
    "\n",
    "# Train an SVM on the extracted features\n",
    "svm_model = SVC(kernel='linear', class_weight='balanced', probability=True)\n",
    "svm_model.fit(train_features, np.argmax(train_labels, axis=1))\n",
    "\n",
    "# Evaluate\n",
    "y_pred = svm_model.predict(test_features)\n",
    "print(f\"Accuracy: {accuracy_score(np.argmax(test_labels, axis=1), y_pred)}\")\n",
    "print(classification_report(np.argmax(test_labels, axis=1), y_pred, target_names=class_names))"
   ]
  },
  {
   "cell_type": "code",
   "execution_count": 8,
   "metadata": {},
   "outputs": [
    {
     "name": "stdout",
     "output_type": "stream",
     "text": [
      "\u001b[1m97/97\u001b[0m \u001b[32m━━━━━━━━━━━━━━━━━━━━\u001b[0m\u001b[37m\u001b[0m \u001b[1m2s\u001b[0m 15ms/step\n",
      "Overall Test Accuracy: 0.78\n"
     ]
    },
    {
     "data": {
      "image/png": "[encoded data removed]",
      "text/plain": [
       "<Figure size 1000x600 with 1 Axes>"
      ]
     },
     "metadata": {},
     "output_type": "display_data"
    }
   ],
   "source": [
    "import matplotlib.pyplot as plt\n",
    "import numpy as np\n",
    "\n",
    "# Use feature extractor to get features from the test data\n",
    "test_features = feature_extractor.predict(test_data)\n",
    "\n",
    "# Get predictions for the test features\n",
    "predicted_classes = svm_model.predict(test_features)\n",
    "\n",
    "# Convert true labels from one-hot encoding to class indices\n",
    "true_classes = np.argmax(test_labels, axis=1)\n",
    "\n",
    "# Calculate overall accuracy\n",
    "overall_accuracy = np.sum(predicted_classes == true_classes) / len(true_classes)\n",
    "print(f\"Overall Test Accuracy: {overall_accuracy:.2f}\")\n",
    "\n",
    "# Calculate per-class accuracy\n",
    "num_classes = len(class_names)\n",
    "class_accuracies = []\n",
    "for class_index in range(num_classes):\n",
    "    indices = np.where(true_classes == class_index)[0]\n",
    "    class_correct = np.sum(predicted_classes[indices] == true_classes[indices])\n",
    "    class_accuracy = class_correct / len(indices) if len(indices) > 0 else 0\n",
    "    class_accuracies.append(class_accuracy)\n",
    "\n",
    "# Plot per-class accuracy\n",
    "plt.figure(figsize=(10, 6))\n",
    "plt.bar(class_names, class_accuracies)\n",
    "plt.title(\"Per-Class Accuracy\")\n",
    "plt.xlabel(\"Class\")\n",
    "plt.ylabel(\"Accuracy\")\n",
    "plt.ylim(0, 1)\n",
    "plt.xticks(rotation=45)\n",
    "plt.grid(axis=\"y\")\n",
    "plt.show()\n"
   ]
  },
  {
   "cell_type": "code",
   "execution_count": 3,
   "metadata": {},
   "outputs": [
    {
     "name": "stdout",
     "output_type": "stream",
     "text": [
      "INFO:tensorflow:Assets written to: saved_models/garbage_classification_model_79_tf_keras/assets\n"
     ]
    },
    {
     "name": "stderr",
     "output_type": "stream",
     "text": [
      "INFO:tensorflow:Assets written to: saved_models/garbage_classification_model_79_tf_keras/assets\n"
     ]
    },
    {
     "name": "stdout",
     "output_type": "stream",
     "text": [
      "Saved artifact at 'saved_models/garbage_classification_model_79_tf_keras'. The following endpoints are available:\n",
      "\n",
      "* Endpoint 'serve'\n",
      "  args_0 (POSITIONAL_ONLY): TensorSpec(shape=(None, 256, 256, 3), dtype=tf.float32, name='input_layer')\n",
      "Output Type:\n",
      "  TensorSpec(shape=(None, 12), dtype=tf.float32, name=None)\n",
      "Captures:\n",
      "  14657741296: TensorSpec(shape=(), dtype=tf.resource, name=None)\n",
      "  14657742880: TensorSpec(shape=(), dtype=tf.resource, name=None)\n",
      "  14657742000: TensorSpec(shape=(), dtype=tf.resource, name=None)\n",
      "  14657741120: TensorSpec(shape=(), dtype=tf.resource, name=None)\n",
      "  14657742352: TensorSpec(shape=(), dtype=tf.resource, name=None)\n",
      "  14657742176: TensorSpec(shape=(), dtype=tf.resource, name=None)\n",
      "  14657743056: TensorSpec(shape=(), dtype=tf.resource, name=None)\n",
      "  14657744112: TensorSpec(shape=(), dtype=tf.resource, name=None)\n",
      "  14657743232: TensorSpec(shape=(), dtype=tf.resource, name=None)\n",
      "  14657740768: TensorSpec(shape=(), dtype=tf.resource, name=None)\n",
      "  14657743584: TensorSpec(shape=(), dtype=tf.resource, name=None)\n",
      "  14657743408: TensorSpec(shape=(), dtype=tf.resource, name=None)\n",
      "  14657744288: TensorSpec(shape=(), dtype=tf.resource, name=None)\n",
      "  14657745344: TensorSpec(shape=(), dtype=tf.resource, name=None)\n",
      "  14657744464: TensorSpec(shape=(), dtype=tf.resource, name=None)\n",
      "  14657742704: TensorSpec(shape=(), dtype=tf.resource, name=None)\n",
      "  14657744816: TensorSpec(shape=(), dtype=tf.resource, name=None)\n",
      "  14657744640: TensorSpec(shape=(), dtype=tf.resource, name=None)\n",
      "  14657745520: TensorSpec(shape=(), dtype=tf.resource, name=None)\n",
      "  14657746576: TensorSpec(shape=(), dtype=tf.resource, name=None)\n",
      "  14657745696: TensorSpec(shape=(), dtype=tf.resource, name=None)\n",
      "  14657745168: TensorSpec(shape=(), dtype=tf.resource, name=None)\n",
      "  14657746048: TensorSpec(shape=(), dtype=tf.resource, name=None)\n",
      "  14657745872: TensorSpec(shape=(), dtype=tf.resource, name=None)\n",
      "  14657746752: TensorSpec(shape=(), dtype=tf.resource, name=None)\n",
      "  14657747808: TensorSpec(shape=(), dtype=tf.resource, name=None)\n"
     ]
    }
   ],
   "source": [
    "# Investigating model\n",
    "import tensorflow as tf\n",
    "\n",
    "# Load your model\n",
    "model = tf.keras.models.load_model('saved_models/garbage_classification_model_79_tf_keras.keras')\n",
    "\n",
    "# Save the model in SavedModel format\n",
    "model.export('saved_models/garbage_classification_model_79_tf_keras')"
   ]
  },
  {
   "cell_type": "code",
   "execution_count": 6,
   "metadata": {},
   "outputs": [
    {
     "name": "stdout",
     "output_type": "stream",
     "text": [
      "Input Tensor:\n",
      "Name: input_layer, Shape: (None, 256, 256, 3), Dtype: float32\n",
      "\n",
      "Output Tensor:\n",
      "Name: keras_tensor_143, Shape: (None, 12), Dtype: float32\n"
     ]
    }
   ],
   "source": [
    "print(\"Input Tensor:\")\n",
    "for input_tensor in model.inputs:\n",
    "    print(f\"Name: {input_tensor.name}, Shape: {input_tensor.shape}, Dtype: {input_tensor.dtype}\")\n",
    "\n",
    "print(\"\\nOutput Tensor:\")\n",
    "for output_tensor in model.outputs:\n",
    "    print(f\"Name: {output_tensor.name}, Shape: {output_tensor.shape}, Dtype: {output_tensor.dtype}\")"
   ]
  },
  {
   "cell_type": "code",
   "execution_count": 7,
   "metadata": {},
   "outputs": [
    {
     "name": "stdout",
     "output_type": "stream",
     "text": [
      "Input Name: input_layer, Shape: (None, 256, 256, 3), Dtype: <dtype: 'float32'>\n",
      "Output Name: output_0, Shape: (None, 12), Dtype: <dtype: 'float32'>\n"
     ]
    }
   ],
   "source": [
    "# Load the Keras model\n",
    "saved_model = tf.saved_model.load('saved_models/garbage_classification_model_79_tf_keras')\n",
    "\n",
    "# Check input tensor details\n",
    "for key, tensor in saved_model.signatures['serving_default'].structured_input_signature[1].items():\n",
    "    print(f\"Input Name: {tensor.name}, Shape: {tensor.shape}, Dtype: {tensor.dtype}\")\n",
    "\n",
    "# Check output tensor details\n",
    "for key, tensor in saved_model.signatures['serving_default'].structured_outputs.items():\n",
    "    print(f\"Output Name: {tensor.name}, Shape: {tensor.shape}, Dtype: {tensor.dtype}\")"
   ]
  },
  {
   "cell_type": "code",
   "execution_count": null,
   "metadata": {},
   "outputs": [],
   "source": []
  }
 ],
 "metadata": {
  "kernelspec": {
   "display_name": "cm-3070",
   "language": "python",
   "name": "python3"
  },
  "language_info": {
   "codemirror_mode": {
    "name": "ipython",
    "version": 3
   },
   "file_extension": ".py",
   "mimetype": "text/x-python",
   "name": "python",
   "nbconvert_exporter": "python",
   "pygments_lexer": "ipython3",
   "version": "3.11.4"
  }
 },
 "nbformat": 4,
 "nbformat_minor": 2
}
